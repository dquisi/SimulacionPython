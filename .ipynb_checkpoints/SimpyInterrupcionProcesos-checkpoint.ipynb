{
 "cells": [
  {
   "cell_type": "markdown",
   "metadata": {},
   "source": [
    "# Interaciones de procesos\n",
    "\n",
    "Mediante la instancia del Enviroment.process() podemos realizar la interración de procesos. Por ejemplo podemos tener un que esperar a que termine un proceso o interrumpir otro mientras se espera un evento.\n",
    "\n",
    "## Espera de un proceso\n",
    "\n",
    "Todo proceso en Simpy se puede ver como un evento. Por ejempo tenemos un vehiculo electrico que necesita recargar las baterias despues de un viaje.\n"
   ]
  },
  {
   "cell_type": "code",
   "execution_count": 25,
   "metadata": {},
   "outputs": [],
   "source": [
    "import simpy\n",
    "import random"
   ]
  },
  {
   "cell_type": "code",
   "execution_count": 6,
   "metadata": {},
   "outputs": [],
   "source": [
    "DURACION_CARGA = 5\n",
    "DURACION_BATERIA = 2\n",
    "\n",
    "class Carro():\n",
    "    def __init__(self, env):\n",
    "        self.env = env\n",
    "        #Empezamos el procesos cuando se instancia un nuevo objeto\n",
    "        #Es importante definir la accion para realizar la interrupcion del evento.\n",
    "        self.accion = env.process(self.run())\n",
    "    def run(self):\n",
    "        while True:\n",
    "            print('Se parquea y empieza a regargar %d' % self.env.now)\n",
    "            # Esperamos a que el proceso de recarga termine\n",
    "            yield self.env.process(self.recarga())\n",
    "            print('Se termino el proceso de recarga %d empieza el manejo' % self.env.now)\n",
    "            yield self.env.timeout(DURACION_BATERIA)\n",
    "            print('Termina el uso del carro manejo %d' % self.env.now)     \n",
    "    def recarga(self):\n",
    "        yield self.env.timeout(DURACION_CARGA)\n",
    "    \n",
    "            \n",
    "            "
   ]
  },
  {
   "cell_type": "code",
   "execution_count": 10,
   "metadata": {},
   "outputs": [
    {
     "name": "stdout",
     "output_type": "stream",
     "text": [
      "Se parquea y empieza a regargar 0\n",
      "Se termino el proceso de recarga 5 empieza el manejo\n",
      "Termina el uso del carro manejo 7\n",
      "Se parquea y empieza a regargar 7\n",
      "Se termino el proceso de recarga 12 empieza el manejo\n",
      "Termina el uso del carro manejo 14\n",
      "Se parquea y empieza a regargar 14\n",
      "Se termino el proceso de recarga 19 empieza el manejo\n",
      "Termina el uso del carro manejo 21\n",
      "Se parquea y empieza a regargar 21\n",
      "Se termino el proceso de recarga 26 empieza el manejo\n",
      "Termina el uso del carro manejo 28\n",
      "Se parquea y empieza a regargar 28\n",
      "Se termino el proceso de recarga 33 empieza el manejo\n"
     ]
    }
   ],
   "source": [
    "env = simpy.Environment() # Creamos el ambiente de trabajo\n",
    "carro1 = Carro(env)\n",
    "env.run(until=35)"
   ]
  },
  {
   "cell_type": "markdown",
   "metadata": {},
   "source": [
    "# Interrumpir el proceso de ejecución\n",
    "Ahora, imaginemos que no debemos esperar a que se recarge completamente la bateria, sino interrumpir el proceso de carga y simplemente empezar a conducir. Para ello simpy permite realizar este proceso a traves del método interrupt()"
   ]
  },
  {
   "cell_type": "code",
   "execution_count": 29,
   "metadata": {},
   "outputs": [],
   "source": [
    "#Definimos el metodo que puede interrumpir la carga de la bateria\n",
    "def manejar_ahora(env, carro):\n",
    "    yield env.timeout(random.randint(1,20))\n",
    "    carro.accion.interrupt()"
   ]
  },
  {
   "cell_type": "code",
   "execution_count": 30,
   "metadata": {},
   "outputs": [],
   "source": [
    "DURACION_CARGA = 5\n",
    "DURACION_BATERIA = 2\n",
    "\n",
    "class CarroInterupcion():\n",
    "    def __init__(self, env):\n",
    "        self.env = env\n",
    "        #Empezamos el procesos cuando se instancia un nuevo objeto\n",
    "        #Es importante definir la accion para realizar la interrupcion del evento.\n",
    "        self.accion = env.process(self.run())\n",
    "    def run(self):\n",
    "        while True:\n",
    "            print('Se parquea y empieza a regargar %d' % self.env.now)\n",
    "            # Esperamos a que el proceso de recarga termine\n",
    "            try:\n",
    "                yield self.env.process(self.recarga())\n",
    "            except simpy.Interrupt:\n",
    "                # Se ejecuta cuando recibe una interrupcion, se para la recarga\n",
    "                # y pasamos al estado de manejar\n",
    "                print('Se interrumpe carga %d'% self.env.now)\n",
    "            print('Se termino el proceso de recarga %d empieza el manejo' % self.env.now)\n",
    "            yield self.env.timeout(DURACION_BATERIA)   \n",
    "    def recarga(self):\n",
    "        yield self.env.timeout(DURACION_CARGA)"
   ]
  },
  {
   "cell_type": "code",
   "execution_count": 31,
   "metadata": {},
   "outputs": [
    {
     "name": "stdout",
     "output_type": "stream",
     "text": [
      "Se parquea y empieza a regargar 0\n",
      "Se termino el proceso de recarga 5 empieza el manejo\n",
      "Se parquea y empieza a regargar 7\n",
      "Se interrumpe carga 11\n",
      "Se termino el proceso de recarga 11 empieza el manejo\n",
      "Se parquea y empieza a regargar 13\n",
      "Se termino el proceso de recarga 18 empieza el manejo\n",
      "Se parquea y empieza a regargar 20\n"
     ]
    }
   ],
   "source": [
    "env = simpy.Environment()\n",
    "carro1 = CarroInterupcion(env)\n",
    "env.process(manejar_ahora(env, carro1))\n",
    "env.run(until=25)"
   ]
  },
  {
   "cell_type": "markdown",
   "metadata": {},
   "source": [
    "# Ejemplo de interrupciones\n",
    "\n",
    "Enunciado: Se tiene un numero de n maquinas trabajando continuamente dentro de una empresa de fabricacion de piezas de metal. Estas maquinas funcionan todo el día interrumpidamente. Cada maquina se descompone periodicamente al azar. \n",
    "Las reparaciones lo realiza un tecnico, este tecnico tiene otras tareas menos importantes que realiza dentro del empresa. Al momento de que una maquina falla automaticamente es notificado al tecnico y es prioridad, por lo que el tecnico deja de hacer su trabajo y empieza el arreglo de la maquina. Al finalizar el arreglo el tecnico continua con sus actividades diarias.\n",
    "\n",
    "Una maquina tiene dos procesos, el trabajo de fabricar piezas y la interrupcion / daño que puede tener la maquina. Finalmente se tiene un solo tecnico dentro de la empresa."
   ]
  },
  {
   "cell_type": "code",
   "execution_count": 32,
   "metadata": {},
   "outputs": [],
   "source": [
    "# Definimos los parametros iniciales\n",
    "\n",
    "PT_FABRICACION = 10 # TIEMPO PROMEDIO DE FABRICACION DE UNA PIEZA\n",
    "TP_FALLA = 300 # TIEMPO EN EL QUE PUEDE FALLAR UNA MAQUINA\n",
    "T_REPARACION = 30 # DURACION DE REPARAR UNA MAQUINA DEL TECNICO\n",
    "T_OTROSTRABAJOS = 30 # DURACION DE OTROS TRABAJOS DEL TECNICO\n",
    "N_MAQUINAS = 10 # NUMERO DE MAQUINAS QUE TIENE LA EMPRESA\n",
    "SEMANAS = 4 # NUMERO DE SEMANAS DE LA SIMUACION\n",
    "TIEMPO_SIMULACION = SEMANAS * 7 * 24 * 60 # TIEMPO DE SIMULACION DE LAS MAQUINAS 24/7"
   ]
  },
  {
   "cell_type": "code",
   "execution_count": 33,
   "metadata": {},
   "outputs": [],
   "source": [
    "def tiempo_fabricacion():\n",
    "    return random.normalvariate(PT_FABRICACION, 2)\n",
    "\n",
    "def tiempo_falla():\n",
    "    return random.expovariate(1/TP_FALLA)\n"
   ]
  },
  {
   "cell_type": "code",
   "execution_count": 37,
   "metadata": {},
   "outputs": [],
   "source": [
    "class Maquina():\n",
    "    def __init__(self, env, nombre, tecnico):\n",
    "        self.env = env\n",
    "        self.nombre = nombre\n",
    "        self.numero_piezas = 0\n",
    "        self.falla = False\n",
    "        self.proceso = env.process(self.trabajo(tecnico))\n",
    "        env.process(self.falla_maquina())\n",
    "    \n",
    "    def trabajo(self, tecnico):\n",
    "            while True:\n",
    "                demora_pieza = tiempo_fabricacion()\n",
    "                while demora_pieza:\n",
    "                    try:\n",
    "                        inicio = self.env.now\n",
    "                        yield self.env.timeout(demora_pieza)\n",
    "                        demora_pieza = 0\n",
    "                    except simpy.Interrupt:\n",
    "                        self.falla = True\n",
    "                        demora_pieza -= self.env.now - inicio\n",
    "                        with tecnico.request(priority=1) as requerimiento:\n",
    "                            yield requerimiento\n",
    "                            yield self.env.timeout(T_REPARACION)\n",
    "                        self.falla = False\n",
    "                self.numero_piezas += 1  \n",
    "    \n",
    "    def falla_maquina(self):\n",
    "        while True:\n",
    "            yield self.env.timeout(tiempo_falla())\n",
    "            if not self.falla:\n",
    "                self.proceso.interrupt()           "
   ]
  },
  {
   "cell_type": "code",
   "execution_count": 38,
   "metadata": {},
   "outputs": [],
   "source": [
    "def trabajo_tecnico(env, tecnico):\n",
    "    while True:\n",
    "        tiempo = T_OTROSTRABAJOS\n",
    "        while tiempo:\n",
    "            with tecnico.request(priority=2) as requerimiento:\n",
    "                yield requerimiento;\n",
    "                try:\n",
    "                    inicio = env.now\n",
    "                    yield env.timeout(tiempo)\n",
    "                    tiempo = 0\n",
    "                except simpy.Interrupt:\n",
    "                    tiempo -= env.now - inicio"
   ]
  },
  {
   "cell_type": "code",
   "execution_count": 39,
   "metadata": {},
   "outputs": [
    {
     "name": "stdout",
     "output_type": "stream",
     "text": [
      "Fabricación de piezas UPS\n"
     ]
    },
    {
     "ename": "NameError",
     "evalue": "name 'requirimiento' is not defined",
     "output_type": "error",
     "traceback": [
      "\u001b[0;31m---------------------------------------------------------------------------\u001b[0m",
      "\u001b[0;31mInterrupt\u001b[0m                                 Traceback (most recent call last)",
      "\u001b[0;31mInterrupt\u001b[0m: Interrupt(None)",
      "\nThe above exception was the direct cause of the following exception:\n",
      "\u001b[0;31mInterrupt\u001b[0m                                 Traceback (most recent call last)",
      "\u001b[0;32m<ipython-input-37-a9b85373a0a7>\u001b[0m in \u001b[0;36mtrabajo\u001b[0;34m(self, tecnico)\u001b[0m\n\u001b[1;32m     15\u001b[0m                         \u001b[0minicio\u001b[0m \u001b[0;34m=\u001b[0m \u001b[0mself\u001b[0m\u001b[0;34m.\u001b[0m\u001b[0menv\u001b[0m\u001b[0;34m.\u001b[0m\u001b[0mnow\u001b[0m\u001b[0;34m\u001b[0m\u001b[0;34m\u001b[0m\u001b[0m\n\u001b[0;32m---> 16\u001b[0;31m                         \u001b[0;32myield\u001b[0m \u001b[0mself\u001b[0m\u001b[0;34m.\u001b[0m\u001b[0menv\u001b[0m\u001b[0;34m.\u001b[0m\u001b[0mtimeout\u001b[0m\u001b[0;34m(\u001b[0m\u001b[0mdemora_pieza\u001b[0m\u001b[0;34m)\u001b[0m\u001b[0;34m\u001b[0m\u001b[0;34m\u001b[0m\u001b[0m\n\u001b[0m\u001b[1;32m     17\u001b[0m                         \u001b[0mdemora_pieza\u001b[0m \u001b[0;34m=\u001b[0m \u001b[0;36m0\u001b[0m\u001b[0;34m\u001b[0m\u001b[0;34m\u001b[0m\u001b[0m\n",
      "\u001b[0;31mInterrupt\u001b[0m: Interrupt(None)",
      "\nDuring handling of the above exception, another exception occurred:\n",
      "\u001b[0;31mNameError\u001b[0m                                 Traceback (most recent call last)",
      "\u001b[0;32m<ipython-input-37-a9b85373a0a7>\u001b[0m in \u001b[0;36mtrabajo\u001b[0;34m(self, tecnico)\u001b[0m\n\u001b[1;32m     21\u001b[0m                         \u001b[0;32mwith\u001b[0m \u001b[0mtecnico\u001b[0m\u001b[0;34m.\u001b[0m\u001b[0mrequest\u001b[0m\u001b[0;34m(\u001b[0m\u001b[0mpriority\u001b[0m\u001b[0;34m=\u001b[0m\u001b[0;36m1\u001b[0m\u001b[0;34m)\u001b[0m \u001b[0;32mas\u001b[0m \u001b[0mrequerimiento\u001b[0m\u001b[0;34m:\u001b[0m\u001b[0;34m\u001b[0m\u001b[0;34m\u001b[0m\u001b[0m\n\u001b[0;32m---> 22\u001b[0;31m                             \u001b[0;32myield\u001b[0m \u001b[0mrequirimiento\u001b[0m\u001b[0;34m\u001b[0m\u001b[0;34m\u001b[0m\u001b[0m\n\u001b[0m\u001b[1;32m     23\u001b[0m                             \u001b[0;32myield\u001b[0m \u001b[0mself\u001b[0m\u001b[0;34m.\u001b[0m\u001b[0menv\u001b[0m\u001b[0;34m.\u001b[0m\u001b[0mtimeout\u001b[0m\u001b[0;34m(\u001b[0m\u001b[0mT_REPARACION\u001b[0m\u001b[0;34m)\u001b[0m\u001b[0;34m\u001b[0m\u001b[0;34m\u001b[0m\u001b[0m\n",
      "\u001b[0;31mNameError\u001b[0m: name 'requirimiento' is not defined",
      "\nThe above exception was the direct cause of the following exception:\n",
      "\u001b[0;31mNameError\u001b[0m                                 Traceback (most recent call last)",
      "\u001b[0;32m<ipython-input-39-2b045c7cdb9b>\u001b[0m in \u001b[0;36m<module>\u001b[0;34m\u001b[0m\n\u001b[1;32m      5\u001b[0m \u001b[0mmaquinas\u001b[0m \u001b[0;34m=\u001b[0m \u001b[0;34m[\u001b[0m\u001b[0mMaquina\u001b[0m\u001b[0;34m(\u001b[0m\u001b[0menv\u001b[0m\u001b[0;34m,\u001b[0m \u001b[0;34m'Maquina %d'\u001b[0m \u001b[0;34m%\u001b[0m \u001b[0mi\u001b[0m\u001b[0;34m,\u001b[0m \u001b[0mtecnico\u001b[0m\u001b[0;34m)\u001b[0m \u001b[0;32mfor\u001b[0m \u001b[0mi\u001b[0m \u001b[0;32min\u001b[0m \u001b[0mrange\u001b[0m \u001b[0;34m(\u001b[0m\u001b[0mN_MAQUINAS\u001b[0m\u001b[0;34m)\u001b[0m\u001b[0;34m]\u001b[0m\u001b[0;34m\u001b[0m\u001b[0;34m\u001b[0m\u001b[0m\n\u001b[1;32m      6\u001b[0m \u001b[0menv\u001b[0m\u001b[0;34m.\u001b[0m\u001b[0mprocess\u001b[0m\u001b[0;34m(\u001b[0m\u001b[0mtrabajo_tecnico\u001b[0m\u001b[0;34m(\u001b[0m\u001b[0menv\u001b[0m\u001b[0;34m,\u001b[0m \u001b[0mtecnico\u001b[0m\u001b[0;34m)\u001b[0m\u001b[0;34m)\u001b[0m\u001b[0;34m\u001b[0m\u001b[0;34m\u001b[0m\u001b[0m\n\u001b[0;32m----> 7\u001b[0;31m \u001b[0menv\u001b[0m\u001b[0;34m.\u001b[0m\u001b[0mrun\u001b[0m\u001b[0;34m(\u001b[0m\u001b[0muntil\u001b[0m\u001b[0;34m=\u001b[0m\u001b[0mTIEMPO_SIMULACION\u001b[0m\u001b[0;34m)\u001b[0m\u001b[0;34m\u001b[0m\u001b[0;34m\u001b[0m\u001b[0m\n\u001b[0m\u001b[1;32m      8\u001b[0m \u001b[0mprint\u001b[0m\u001b[0;34m(\u001b[0m\u001b[0;34m'Simulacion realizada despues de %d semanas'\u001b[0m \u001b[0;34m%\u001b[0m \u001b[0mSEMANAS\u001b[0m\u001b[0;34m)\u001b[0m\u001b[0;34m\u001b[0m\u001b[0;34m\u001b[0m\u001b[0m\n\u001b[1;32m      9\u001b[0m \u001b[0;32mfor\u001b[0m \u001b[0mmaquina\u001b[0m \u001b[0;32min\u001b[0m \u001b[0mmaquinas\u001b[0m\u001b[0;34m:\u001b[0m\u001b[0;34m\u001b[0m\u001b[0;34m\u001b[0m\u001b[0m\n",
      "\u001b[0;32m~/.local/lib/python3.7/site-packages/simpy/core.py\u001b[0m in \u001b[0;36mrun\u001b[0;34m(self, until)\u001b[0m\n\u001b[1;32m    252\u001b[0m         \u001b[0;32mtry\u001b[0m\u001b[0;34m:\u001b[0m\u001b[0;34m\u001b[0m\u001b[0;34m\u001b[0m\u001b[0m\n\u001b[1;32m    253\u001b[0m             \u001b[0;32mwhile\u001b[0m \u001b[0;32mTrue\u001b[0m\u001b[0;34m:\u001b[0m\u001b[0;34m\u001b[0m\u001b[0;34m\u001b[0m\u001b[0m\n\u001b[0;32m--> 254\u001b[0;31m                 \u001b[0mself\u001b[0m\u001b[0;34m.\u001b[0m\u001b[0mstep\u001b[0m\u001b[0;34m(\u001b[0m\u001b[0;34m)\u001b[0m\u001b[0;34m\u001b[0m\u001b[0;34m\u001b[0m\u001b[0m\n\u001b[0m\u001b[1;32m    255\u001b[0m         \u001b[0;32mexcept\u001b[0m \u001b[0mStopSimulation\u001b[0m \u001b[0;32mas\u001b[0m \u001b[0mexc\u001b[0m\u001b[0;34m:\u001b[0m\u001b[0;34m\u001b[0m\u001b[0;34m\u001b[0m\u001b[0m\n\u001b[1;32m    256\u001b[0m             \u001b[0;32mreturn\u001b[0m \u001b[0mexc\u001b[0m\u001b[0;34m.\u001b[0m\u001b[0margs\u001b[0m\u001b[0;34m[\u001b[0m\u001b[0;36m0\u001b[0m\u001b[0;34m]\u001b[0m  \u001b[0;31m# == until.value\u001b[0m\u001b[0;34m\u001b[0m\u001b[0;34m\u001b[0m\u001b[0m\n",
      "\u001b[0;32m~/.local/lib/python3.7/site-packages/simpy/core.py\u001b[0m in \u001b[0;36mstep\u001b[0;34m(self)\u001b[0m\n\u001b[1;32m    204\u001b[0m             \u001b[0mexc\u001b[0m \u001b[0;34m=\u001b[0m \u001b[0mtype\u001b[0m\u001b[0;34m(\u001b[0m\u001b[0mevent\u001b[0m\u001b[0;34m.\u001b[0m\u001b[0m_value\u001b[0m\u001b[0;34m)\u001b[0m\u001b[0;34m(\u001b[0m\u001b[0;34m*\u001b[0m\u001b[0mevent\u001b[0m\u001b[0;34m.\u001b[0m\u001b[0m_value\u001b[0m\u001b[0;34m.\u001b[0m\u001b[0margs\u001b[0m\u001b[0;34m)\u001b[0m\u001b[0;34m\u001b[0m\u001b[0;34m\u001b[0m\u001b[0m\n\u001b[1;32m    205\u001b[0m             \u001b[0mexc\u001b[0m\u001b[0;34m.\u001b[0m\u001b[0m__cause__\u001b[0m \u001b[0;34m=\u001b[0m \u001b[0mevent\u001b[0m\u001b[0;34m.\u001b[0m\u001b[0m_value\u001b[0m\u001b[0;34m\u001b[0m\u001b[0;34m\u001b[0m\u001b[0m\n\u001b[0;32m--> 206\u001b[0;31m             \u001b[0;32mraise\u001b[0m \u001b[0mexc\u001b[0m\u001b[0;34m\u001b[0m\u001b[0;34m\u001b[0m\u001b[0m\n\u001b[0m\u001b[1;32m    207\u001b[0m \u001b[0;34m\u001b[0m\u001b[0m\n\u001b[1;32m    208\u001b[0m     def run(\n",
      "\u001b[0;31mNameError\u001b[0m: name 'requirimiento' is not defined"
     ]
    }
   ],
   "source": [
    "print('Fabricación de piezas UPS')\n",
    "\n",
    "env = simpy.Environment()\n",
    "tecnico = simpy.PreemptiveResource(env, capacity=1)\n",
    "maquinas = [Maquina(env, 'Maquina %d' % i, tecnico) for i in range (N_MAQUINAS)]\n",
    "env.process(trabajo_tecnico(env, tecnico))\n",
    "env.run(until=TIEMPO_SIMULACION)\n",
    "print('Simulacion realizada despues de %d semanas' % SEMANAS)\n",
    "for maquina in maquinas:\n",
    "    print('Nombre: %s ha realizado %d partes' % (maquina.nombre, maquina.numero_piezas))"
   ]
  },
  {
   "cell_type": "markdown",
   "metadata": {},
   "source": [
    "## Practica\n",
    "En base a la practica del COVID vacunación, realizar el proceso de interrupción en base a que el 5% de los pacientes que estan en la sala de espera presentan complicaciones de salud y deben ser trasladados inmediamente al centro de salud más cercano y ser atendidos. Realizar este proceso y generar una segunda linea de simulación para el traslado, atencion y alta del paciente que presenta complicaciones, en base a los siguientes datos:\n",
    "* Traslado de la ambulancia: 5 - 15 minutos.\n",
    "* Atención centro de salud: 5 - 24 horas\n",
    "* Alta: 1 - 2 horas\n",
    "* El 10% de las personas que presentan complicaciones fallecen.\n",
    "\n",
    "Generar graficas que indiquen las personas que presentaron complicaciones en base a los tiempos, estado de las personas y respuesta.\n",
    "\n",
    "\n"
   ]
  },
  {
   "cell_type": "code",
   "execution_count": null,
   "metadata": {},
   "outputs": [],
   "source": []
  }
 ],
 "metadata": {
  "kernelspec": {
   "display_name": "Python 3",
   "language": "python",
   "name": "python3"
  },
  "language_info": {
   "codemirror_mode": {
    "name": "ipython",
    "version": 3
   },
   "file_extension": ".py",
   "mimetype": "text/x-python",
   "name": "python",
   "nbconvert_exporter": "python",
   "pygments_lexer": "ipython3",
   "version": "3.7.3"
  }
 },
 "nbformat": 4,
 "nbformat_minor": 2
}
