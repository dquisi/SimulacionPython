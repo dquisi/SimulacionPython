{
 "cells": [
  {
   "cell_type": "markdown",
   "metadata": {},
   "source": [
    "# Integral de Montecarlo\n"
   ]
  },
  {
   "cell_type": "code",
   "execution_count": 1,
   "metadata": {},
   "outputs": [
    {
     "name": "stdout",
     "output_type": "stream",
     "text": [
      "Montecarlo\n",
      "Res:     {0.23}\n"
     ]
    }
   ],
   "source": [
    "# Desarrolle un algoritmo que emplee integracion de Montecarlo para resolver la siguiente integral:\n",
    "\n",
    "# x/(x+2) a=-1 b=2\n",
    "\n",
    "import random\n",
    "import numpy as np\n",
    "\n",
    "class IntegralMontecarlo:\n",
    "    \n",
    "    def __init__(self):\n",
    "        print('Montecarlo')\n",
    "    \n",
    "    def hy(self, ui, a, b):\n",
    "        temp = (ui*(b-a)+a)/((ui*(b-a)+a)+2)\n",
    "        suma = np.sum(temp)\n",
    "        return suma*(b-a)/float(len(ui))\n",
    "    \n",
    "    def integrar(self,a, b, n):\n",
    "        ui = []\n",
    "        for i in range(n):\n",
    "            ui.append(random.random())\n",
    "            \n",
    "        res = self.hy(np.array(ui), a, b)\n",
    "        return res\n",
    "    \n",
    "if __name__==\"__main__\":\n",
    "    integral = IntegralMontecarlo()\n",
    "    res = integral.integrar(-1.0, 2.0, 10000)\n",
    "    print('Res:     {%.2f}' % res)"
   ]
  },
  {
   "cell_type": "markdown",
   "metadata": {},
   "source": [
    "# Explicación \n",
    "https://www.youtube.com/watch?v=6_kaYOr8kV8&t=334s"
   ]
  }
 ],
 "metadata": {
  "kernelspec": {
   "display_name": "Python 3",
   "language": "python",
   "name": "python3"
  },
  "language_info": {
   "codemirror_mode": {
    "name": "ipython",
    "version": 3
   },
   "file_extension": ".py",
   "mimetype": "text/x-python",
   "name": "python",
   "nbconvert_exporter": "python",
   "pygments_lexer": "ipython3",
   "version": "3.7.3"
  }
 },
 "nbformat": 4,
 "nbformat_minor": 2
}
